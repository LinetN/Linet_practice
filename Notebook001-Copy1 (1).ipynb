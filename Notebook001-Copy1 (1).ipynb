{
 "cells": [
  {
   "cell_type": "markdown",
   "metadata": {},
   "source": [
    "# arithmetic operators"
   ]
  },
  {
   "cell_type": "code",
   "execution_count": 1,
   "metadata": {},
   "outputs": [
    {
     "data": {
      "text/plain": [
       "9"
      ]
     },
     "execution_count": 1,
     "metadata": {},
     "output_type": "execute_result"
    }
   ],
   "source": [
    "#addition\n",
    "4+5"
   ]
  },
  {
   "cell_type": "code",
   "execution_count": 2,
   "metadata": {},
   "outputs": [
    {
     "data": {
      "text/plain": [
       "8"
      ]
     },
     "execution_count": 2,
     "metadata": {},
     "output_type": "execute_result"
    }
   ],
   "source": [
    "#subtraction\n",
    "54-46"
   ]
  },
  {
   "cell_type": "code",
   "execution_count": 3,
   "metadata": {},
   "outputs": [
    {
     "data": {
      "text/plain": [
       "6"
      ]
     },
     "execution_count": 3,
     "metadata": {},
     "output_type": "execute_result"
    }
   ],
   "source": [
    "#multiplication\n",
    "2*3"
   ]
  },
  {
   "cell_type": "code",
   "execution_count": 4,
   "metadata": {},
   "outputs": [
    {
     "data": {
      "text/plain": [
       "5.0"
      ]
     },
     "execution_count": 4,
     "metadata": {},
     "output_type": "execute_result"
    }
   ],
   "source": [
    "#division\n",
    "35/7"
   ]
  },
  {
   "cell_type": "code",
   "execution_count": 5,
   "metadata": {},
   "outputs": [
    {
     "name": "stdout",
     "output_type": "stream",
     "text": [
      "liz is a beautifu girl\n"
     ]
    }
   ],
   "source": [
    "# string data type\n",
    "print(\"liz is a beautifu girl\")\n"
   ]
  },
  {
   "cell_type": "code",
   "execution_count": 6,
   "metadata": {},
   "outputs": [
    {
     "name": "stdout",
     "output_type": "stream",
     "text": [
      "21\n",
      "4\n"
     ]
    }
   ],
   "source": [
    "i=5\n",
    "j=i\n",
    "j=3\n",
    "i=4\n",
    "_sam_age=21\n",
    "print(_sam_age)\n",
    "print(i)"
   ]
  },
  {
   "cell_type": "code",
   "execution_count": 7,
   "metadata": {},
   "outputs": [
    {
     "name": "stdout",
     "output_type": "stream",
     "text": [
      "3\n"
     ]
    }
   ],
   "source": [
    "print(j)"
   ]
  },
  {
   "cell_type": "code",
   "execution_count": 8,
   "metadata": {},
   "outputs": [],
   "source": [
    "a=(\"number one\")"
   ]
  },
  {
   "cell_type": "code",
   "execution_count": 9,
   "metadata": {},
   "outputs": [
    {
     "data": {
      "text/plain": [
       "str"
      ]
     },
     "execution_count": 9,
     "metadata": {},
     "output_type": "execute_result"
    }
   ],
   "source": [
    "type(a)"
   ]
  },
  {
   "cell_type": "markdown",
   "metadata": {},
   "source": [
    "# Conditional Statements"
   ]
  },
  {
   "cell_type": "code",
   "execution_count": 10,
   "metadata": {},
   "outputs": [
    {
     "name": "stdout",
     "output_type": "stream",
     "text": [
      "negative\n"
     ]
    }
   ],
   "source": [
    "#if y is greater than zero print positive, if 0 print zero and otherwise print negative\n",
    "y=-3\n",
    "if(y>0):\n",
    "    print(\"positive\")\n",
    "elif(y==0):\n",
    "    print(\"zero\")\n",
    "else:\n",
    "    print(\"negative\")"
   ]
  },
  {
   "cell_type": "code",
   "execution_count": 11,
   "metadata": {},
   "outputs": [
    {
     "name": "stdout",
     "output_type": "stream",
     "text": [
      "odd\n"
     ]
    }
   ],
   "source": [
    "#print \"even\" if x is divisible by 2 otherise print odd\n",
    "x=13\n",
    "if(x%2==0):\n",
    "    print(\"even\")\n",
    "else:\n",
    "    print(\"odd\")"
   ]
  },
  {
   "cell_type": "code",
   "execution_count": 12,
   "metadata": {},
   "outputs": [
    {
     "name": "stdout",
     "output_type": "stream",
     "text": [
      "what is your name Linet\n",
      "what is your favourite colour Green\n"
     ]
    }
   ],
   "source": [
    "name= input (\"what is your name \")\n",
    "favourite_colour=input(\"what is your favourite colour \")"
   ]
  },
  {
   "cell_type": "code",
   "execution_count": 13,
   "metadata": {},
   "outputs": [
    {
     "name": "stdout",
     "output_type": "stream",
     "text": [
      "LinetlikesGreen\n"
     ]
    }
   ],
   "source": [
    "print(name  + \"likes\"  + favourite_colour  )"
   ]
  },
  {
   "cell_type": "markdown",
   "metadata": {},
   "source": [
    "# Looping Constructs"
   ]
  },
  {
   "cell_type": "code",
   "execution_count": 14,
   "metadata": {},
   "outputs": [
    {
     "name": "stdout",
     "output_type": "stream",
     "text": [
      "I love tea\n",
      "I love tea\n",
      "I love tea\n",
      "I love tea\n",
      "I love tea\n"
     ]
    }
   ],
   "source": [
    "for i in range(5):\n",
    "    print(\"I love tea\")"
   ]
  },
  {
   "cell_type": "code",
   "execution_count": 15,
   "metadata": {},
   "outputs": [
    {
     "name": "stdout",
     "output_type": "stream",
     "text": [
      "11\n",
      "12\n",
      "13\n",
      "14\n",
      "15\n",
      "16\n"
     ]
    }
   ],
   "source": [
    "for i in range(11,17):\n",
    "    print(i)"
   ]
  },
  {
   "cell_type": "code",
   "execution_count": 16,
   "metadata": {},
   "outputs": [
    {
     "name": "stdout",
     "output_type": "stream",
     "text": [
      "11\n",
      "13\n",
      "15\n",
      "17\n",
      "19\n"
     ]
    }
   ],
   "source": [
    "# A loop to print all the odd numbers between 10 and 20\n",
    "for i in range(11,20,2):\n",
    "    print(i)"
   ]
  },
  {
   "cell_type": "markdown",
   "metadata": {},
   "source": [
    "# Functtions (user defined functions and build -n funsctions"
   ]
  },
  {
   "cell_type": "code",
   "execution_count": 17,
   "metadata": {},
   "outputs": [
    {
     "data": {
      "text/plain": [
       "12.56"
      ]
     },
     "execution_count": 17,
     "metadata": {},
     "output_type": "execute_result"
    }
   ],
   "source": [
    "def area_circle(radius):\n",
    "    area=3.14*radius*radius\n",
    "    return area\n",
    "area_circle(2)"
   ]
  },
  {
   "cell_type": "code",
   "execution_count": 18,
   "metadata": {},
   "outputs": [
    {
     "data": {
      "text/plain": [
       "50.24"
      ]
     },
     "execution_count": 18,
     "metadata": {},
     "output_type": "execute_result"
    }
   ],
   "source": [
    "area_circle(4)"
   ]
  },
  {
   "cell_type": "markdown",
   "metadata": {},
   "source": [
    "# Lists"
   ]
  },
  {
   "cell_type": "code",
   "execution_count": 21,
   "metadata": {},
   "outputs": [
    {
     "data": {
      "text/plain": [
       "'water'"
      ]
     },
     "execution_count": 21,
     "metadata": {},
     "output_type": "execute_result"
    }
   ],
   "source": [
    "list=[\"fish\",1,2,3,\"chicken\",\"water\",4,\"juice\",7,\"soda\",\"milk\"]\n",
    "list[5]"
   ]
  },
  {
   "cell_type": "code",
   "execution_count": 22,
   "metadata": {},
   "outputs": [
    {
     "data": {
      "text/plain": [
       "[1, 2, 3, 'chicken', 'water']"
      ]
     },
     "execution_count": 22,
     "metadata": {},
     "output_type": "execute_result"
    }
   ],
   "source": [
    "list[1:6]"
   ]
  },
  {
   "cell_type": "code",
   "execution_count": 23,
   "metadata": {},
   "outputs": [
    {
     "data": {
      "text/plain": [
       "'milk'"
      ]
     },
     "execution_count": 23,
     "metadata": {},
     "output_type": "execute_result"
    }
   ],
   "source": [
    "list[-1]"
   ]
  },
  {
   "cell_type": "code",
   "execution_count": 25,
   "metadata": {},
   "outputs": [
    {
     "data": {
      "text/plain": [
       "['fish',\n",
       " 1,\n",
       " 2,\n",
       " 3,\n",
       " 'chicken',\n",
       " 'water',\n",
       " 4,\n",
       " 'juice',\n",
       " 7,\n",
       " 'soda',\n",
       " 'milk',\n",
       " 'champagne']"
      ]
     },
     "execution_count": 25,
     "metadata": {},
     "output_type": "execute_result"
    }
   ],
   "source": [
    "list.append(\"champagne\")\n",
    "list"
   ]
  },
  {
   "cell_type": "code",
   "execution_count": 26,
   "metadata": {},
   "outputs": [
    {
     "data": {
      "text/plain": [
       "['fish',\n",
       " 1,\n",
       " 2,\n",
       " 3,\n",
       " 'chicken',\n",
       " 'water',\n",
       " 4,\n",
       " 'juice',\n",
       " 7,\n",
       " 'soda',\n",
       " 'milk',\n",
       " 'champagne',\n",
       " 'tea',\n",
       " 9,\n",
       " 14]"
      ]
     },
     "execution_count": 26,
     "metadata": {},
     "output_type": "execute_result"
    }
   ],
   "source": [
    "list.extend([\"tea\",9,14])\n",
    "list"
   ]
  },
  {
   "cell_type": "code",
   "execution_count": 32,
   "metadata": {},
   "outputs": [
    {
     "data": {
      "text/plain": [
       "['fish',\n",
       " 1,\n",
       " 3,\n",
       " 'chicken',\n",
       " 'water',\n",
       " 4,\n",
       " 'juice',\n",
       " 7,\n",
       " 'soda',\n",
       " 'milk',\n",
       " 'champagne',\n",
       " 'tea',\n",
       " 9,\n",
       " 14]"
      ]
     },
     "execution_count": 32,
     "metadata": {},
     "output_type": "execute_result"
    }
   ],
   "source": [
    "list.remove(2)\n",
    "list"
   ]
  },
  {
   "cell_type": "code",
   "execution_count": 33,
   "metadata": {},
   "outputs": [
    {
     "data": {
      "text/plain": [
       "['fish',\n",
       " 1,\n",
       " 3,\n",
       " 'chicken',\n",
       " 'water',\n",
       " 4,\n",
       " 'juice',\n",
       " 'soda',\n",
       " 'milk',\n",
       " 'champagne',\n",
       " 'tea',\n",
       " 9,\n",
       " 14]"
      ]
     },
     "execution_count": 33,
     "metadata": {},
     "output_type": "execute_result"
    }
   ],
   "source": [
    "del list[7]\n",
    "list"
   ]
  },
  {
   "cell_type": "code",
   "execution_count": 34,
   "metadata": {},
   "outputs": [
    {
     "name": "stdout",
     "output_type": "stream",
     "text": [
      "fish\n",
      "1\n",
      "3\n",
      "chicken\n",
      "water\n",
      "4\n",
      "juice\n",
      "soda\n",
      "milk\n",
      "champagne\n",
      "tea\n",
      "9\n",
      "14\n"
     ]
    }
   ],
   "source": [
    "for i in list:\n",
    "    print(i)"
   ]
  },
  {
   "cell_type": "markdown",
   "metadata": {},
   "source": [
    "# Dictionaries"
   ]
  },
  {
   "cell_type": "code",
   "execution_count": 2,
   "metadata": {},
   "outputs": [
    {
     "data": {
      "text/plain": [
       "[99, 92]"
      ]
     },
     "execution_count": 2,
     "metadata": {},
     "output_type": "execute_result"
    }
   ],
   "source": [
    "Dict1={\"Linet\":[92,89],\"Lucy\":[86,91],\"Paul\":[99,89],\"Anna\":[99,92]}\n",
    "Dict1[\"Anna\"]"
   ]
  },
  {
   "cell_type": "code",
   "execution_count": 3,
   "metadata": {},
   "outputs": [
    {
     "data": {
      "text/plain": [
       "{'Linet': [92, 89],\n",
       " 'Lucy': [86, 91],\n",
       " 'Paul': [99, 89],\n",
       " 'Anna': [99, 92],\n",
       " 'Benedict': [92, 8]}"
      ]
     },
     "execution_count": 3,
     "metadata": {},
     "output_type": "execute_result"
    }
   ],
   "source": [
    "Dict1[\"Benedict\"]=[92,8]\n",
    "Dict1"
   ]
  },
  {
   "cell_type": "code",
   "execution_count": 7,
   "metadata": {},
   "outputs": [
    {
     "data": {
      "text/plain": [
       "{'Linet': [92, 89],\n",
       " 'Lucy': [86, 91],\n",
       " 'Paul': [99, 89],\n",
       " 'Anna': [99, 92],\n",
       " 'Benedict': [92, 8],\n",
       " 'Celestine': [99, 95],\n",
       " 'Melania': [91, 92]}"
      ]
     },
     "execution_count": 7,
     "metadata": {},
     "output_type": "execute_result"
    }
   ],
   "source": [
    "Dict1.update({\"Celestine\":[99,95],\"Melania\":[91,92]})\n",
    "Dict1"
   ]
  },
  {
   "cell_type": "code",
   "execution_count": 8,
   "metadata": {},
   "outputs": [
    {
     "data": {
      "text/plain": [
       "{'Linet': [92, 89],\n",
       " 'Paul': [99, 89],\n",
       " 'Anna': [99, 92],\n",
       " 'Benedict': [92, 8],\n",
       " 'Celestine': [99, 95],\n",
       " 'Melania': [91, 92]}"
      ]
     },
     "execution_count": 8,
     "metadata": {},
     "output_type": "execute_result"
    }
   ],
   "source": [
    "del Dict1[\"Lucy\"]\n",
    "Dict1"
   ]
  },
  {
   "cell_type": "markdown",
   "metadata": {},
   "source": [
    "# Reading CSV and Excel Files"
   ]
  },
  {
   "cell_type": "code",
   "execution_count": 37,
   "metadata": {},
   "outputs": [],
   "source": [
    "#importing pandas library\n",
    "import pandas as pd"
   ]
  },
  {
   "cell_type": "code",
   "execution_count": 38,
   "metadata": {},
   "outputs": [],
   "source": [
    "df = pd.read_csv(r\"C:\\Users\\Linet Nabwire\\Desktop\\Python\\Practice File.csv\")"
   ]
  },
  {
   "cell_type": "code",
   "execution_count": 39,
   "metadata": {},
   "outputs": [
    {
     "data": {
      "text/html": [
       "<div>\n",
       "<style scoped>\n",
       "    .dataframe tbody tr th:only-of-type {\n",
       "        vertical-align: middle;\n",
       "    }\n",
       "\n",
       "    .dataframe tbody tr th {\n",
       "        vertical-align: top;\n",
       "    }\n",
       "\n",
       "    .dataframe thead th {\n",
       "        text-align: right;\n",
       "    }\n",
       "</style>\n",
       "<table border=\"1\" class=\"dataframe\">\n",
       "  <thead>\n",
       "    <tr style=\"text-align: right;\">\n",
       "      <th></th>\n",
       "      <th>Fisrt Name</th>\n",
       "      <th>Last Name</th>\n",
       "      <th>ID</th>\n",
       "      <th>School</th>\n",
       "      <th>employer</th>\n",
       "      <th>Married</th>\n",
       "      <th>Sales(USD)</th>\n",
       "      <th>Car Model</th>\n",
       "    </tr>\n",
       "  </thead>\n",
       "  <tbody>\n",
       "    <tr>\n",
       "      <th>0</th>\n",
       "      <td>John</td>\n",
       "      <td>Donald</td>\n",
       "      <td>12578</td>\n",
       "      <td>UofL</td>\n",
       "      <td>Humanaa</td>\n",
       "      <td>Yes</td>\n",
       "      <td>1,560,897</td>\n",
       "      <td>Bentley</td>\n",
       "    </tr>\n",
       "    <tr>\n",
       "      <th>1</th>\n",
       "      <td>Robert</td>\n",
       "      <td>Mark</td>\n",
       "      <td>12579</td>\n",
       "      <td>UCLA</td>\n",
       "      <td>Foxx</td>\n",
       "      <td>No</td>\n",
       "      <td>1,467,664</td>\n",
       "      <td>BMW</td>\n",
       "    </tr>\n",
       "    <tr>\n",
       "      <th>2</th>\n",
       "      <td>Michael</td>\n",
       "      <td>Jessica</td>\n",
       "      <td>12580</td>\n",
       "      <td>Bentley</td>\n",
       "      <td>Microosft</td>\n",
       "      <td>No</td>\n",
       "      <td>1,448,309</td>\n",
       "      <td>Hyundai</td>\n",
       "    </tr>\n",
       "    <tr>\n",
       "      <th>3</th>\n",
       "      <td>William</td>\n",
       "      <td>Sarah</td>\n",
       "      <td>12581</td>\n",
       "      <td>ASU</td>\n",
       "      <td>Hundaai</td>\n",
       "      <td>Yes</td>\n",
       "      <td>1,428,981</td>\n",
       "      <td>Jeep</td>\n",
       "    </tr>\n",
       "    <tr>\n",
       "      <th>4</th>\n",
       "      <td>David</td>\n",
       "      <td>Karen</td>\n",
       "      <td>13561</td>\n",
       "      <td>GWU</td>\n",
       "      <td>MRM</td>\n",
       "      <td>Yes</td>\n",
       "      <td>1,402,428</td>\n",
       "      <td>Ferrari</td>\n",
       "    </tr>\n",
       "  </tbody>\n",
       "</table>\n",
       "</div>"
      ],
      "text/plain": [
       "  Fisrt Name Last Name     ID   School   employer Married Sales(USD) Car Model\n",
       "0       John    Donald  12578     UofL    Humanaa     Yes  1,560,897   Bentley\n",
       "1     Robert      Mark  12579     UCLA       Foxx      No  1,467,664       BMW\n",
       "2    Michael   Jessica  12580  Bentley  Microosft      No  1,448,309   Hyundai\n",
       "3    William     Sarah  12581      ASU    Hundaai     Yes  1,428,981      Jeep\n",
       "4      David     Karen  13561      GWU        MRM     Yes  1,402,428   Ferrari"
      ]
     },
     "execution_count": 39,
     "metadata": {},
     "output_type": "execute_result"
    }
   ],
   "source": [
    "df.head()"
   ]
  },
  {
   "cell_type": "code",
   "execution_count": 40,
   "metadata": {},
   "outputs": [
    {
     "data": {
      "text/html": [
       "<div>\n",
       "<style scoped>\n",
       "    .dataframe tbody tr th:only-of-type {\n",
       "        vertical-align: middle;\n",
       "    }\n",
       "\n",
       "    .dataframe tbody tr th {\n",
       "        vertical-align: top;\n",
       "    }\n",
       "\n",
       "    .dataframe thead th {\n",
       "        text-align: right;\n",
       "    }\n",
       "</style>\n",
       "<table border=\"1\" class=\"dataframe\">\n",
       "  <thead>\n",
       "    <tr style=\"text-align: right;\">\n",
       "      <th></th>\n",
       "      <th>Fisrt Name</th>\n",
       "      <th>Last Name</th>\n",
       "      <th>ID</th>\n",
       "      <th>School</th>\n",
       "      <th>employer</th>\n",
       "      <th>Married</th>\n",
       "      <th>Sales(USD)</th>\n",
       "      <th>Car Model</th>\n",
       "    </tr>\n",
       "  </thead>\n",
       "  <tbody>\n",
       "    <tr>\n",
       "      <th>0</th>\n",
       "      <td>John</td>\n",
       "      <td>Donald</td>\n",
       "      <td>12578</td>\n",
       "      <td>UofL</td>\n",
       "      <td>Humanaa</td>\n",
       "      <td>Yes</td>\n",
       "      <td>1560897</td>\n",
       "      <td>Bentley</td>\n",
       "    </tr>\n",
       "    <tr>\n",
       "      <th>1</th>\n",
       "      <td>Robert</td>\n",
       "      <td>Mark</td>\n",
       "      <td>12579</td>\n",
       "      <td>UCLA</td>\n",
       "      <td>Foxx</td>\n",
       "      <td>No</td>\n",
       "      <td>1467664</td>\n",
       "      <td>BMW</td>\n",
       "    </tr>\n",
       "    <tr>\n",
       "      <th>2</th>\n",
       "      <td>Michael</td>\n",
       "      <td>Jessica</td>\n",
       "      <td>12580</td>\n",
       "      <td>Bentley</td>\n",
       "      <td>Microosft</td>\n",
       "      <td>No</td>\n",
       "      <td>1448309</td>\n",
       "      <td>Hyundai</td>\n",
       "    </tr>\n",
       "    <tr>\n",
       "      <th>3</th>\n",
       "      <td>William</td>\n",
       "      <td>Sarah</td>\n",
       "      <td>12581</td>\n",
       "      <td>ASU</td>\n",
       "      <td>Hundaai</td>\n",
       "      <td>Yes</td>\n",
       "      <td>1428981</td>\n",
       "      <td>Jeep</td>\n",
       "    </tr>\n",
       "    <tr>\n",
       "      <th>4</th>\n",
       "      <td>David</td>\n",
       "      <td>Karen</td>\n",
       "      <td>12582</td>\n",
       "      <td>GWU</td>\n",
       "      <td>MRM</td>\n",
       "      <td>Yes</td>\n",
       "      <td>1402428</td>\n",
       "      <td>Ferrari</td>\n",
       "    </tr>\n",
       "  </tbody>\n",
       "</table>\n",
       "</div>"
      ],
      "text/plain": [
       "  Fisrt Name Last Name     ID   School   employer Married  Sales(USD)  \\\n",
       "0       John    Donald  12578     UofL    Humanaa     Yes     1560897   \n",
       "1     Robert      Mark  12579     UCLA       Foxx      No     1467664   \n",
       "2    Michael   Jessica  12580  Bentley  Microosft      No     1448309   \n",
       "3    William     Sarah  12581      ASU    Hundaai     Yes     1428981   \n",
       "4      David     Karen  12582      GWU        MRM     Yes     1402428   \n",
       "\n",
       "  Car Model  \n",
       "0   Bentley  \n",
       "1       BMW  \n",
       "2   Hyundai  \n",
       "3      Jeep  \n",
       "4   Ferrari  "
      ]
     },
     "execution_count": 40,
     "metadata": {},
     "output_type": "execute_result"
    }
   ],
   "source": [
    "#read excel file\n",
    "df1 = pd.read_excel(r\"C:\\Users\\Linet Nabwire\\Desktop\\Python\\Practice File.xlsx\")\n",
    "df1.head()"
   ]
  },
  {
   "cell_type": "code",
   "execution_count": 41,
   "metadata": {},
   "outputs": [
    {
     "data": {
      "text/plain": [
       "(21, 8)"
      ]
     },
     "execution_count": 41,
     "metadata": {},
     "output_type": "execute_result"
    }
   ],
   "source": [
    "#seeing the dimension of the dataframe\n",
    "df1.shape"
   ]
  },
  {
   "cell_type": "code",
   "execution_count": 42,
   "metadata": {},
   "outputs": [
    {
     "data": {
      "text/html": [
       "<div>\n",
       "<style scoped>\n",
       "    .dataframe tbody tr th:only-of-type {\n",
       "        vertical-align: middle;\n",
       "    }\n",
       "\n",
       "    .dataframe tbody tr th {\n",
       "        vertical-align: top;\n",
       "    }\n",
       "\n",
       "    .dataframe thead th {\n",
       "        text-align: right;\n",
       "    }\n",
       "</style>\n",
       "<table border=\"1\" class=\"dataframe\">\n",
       "  <thead>\n",
       "    <tr style=\"text-align: right;\">\n",
       "      <th></th>\n",
       "      <th>Fisrt Name</th>\n",
       "      <th>Last Name</th>\n",
       "      <th>ID</th>\n",
       "      <th>School</th>\n",
       "      <th>employer</th>\n",
       "      <th>Married</th>\n",
       "      <th>Sales(USD)</th>\n",
       "      <th>Car Model</th>\n",
       "    </tr>\n",
       "  </thead>\n",
       "  <tbody>\n",
       "    <tr>\n",
       "      <th>16</th>\n",
       "      <td>Daniel</td>\n",
       "      <td>Taylor</td>\n",
       "      <td>12594</td>\n",
       "      <td>Sydney</td>\n",
       "      <td>Foxx</td>\n",
       "      <td>No</td>\n",
       "      <td>969,544</td>\n",
       "      <td>Ferrari</td>\n",
       "    </tr>\n",
       "    <tr>\n",
       "      <th>17</th>\n",
       "      <td>Matthew</td>\n",
       "      <td>Carlson</td>\n",
       "      <td>12595</td>\n",
       "      <td>Oxford</td>\n",
       "      <td>Microosft</td>\n",
       "      <td>No</td>\n",
       "      <td>965,003</td>\n",
       "      <td>VolksWagen</td>\n",
       "    </tr>\n",
       "    <tr>\n",
       "      <th>18</th>\n",
       "      <td>Anthony</td>\n",
       "      <td>Cabral</td>\n",
       "      <td>12596</td>\n",
       "      <td>LoB</td>\n",
       "      <td>Hundaai</td>\n",
       "      <td>Yes</td>\n",
       "      <td>5,984,621</td>\n",
       "      <td>Marcedes</td>\n",
       "    </tr>\n",
       "    <tr>\n",
       "      <th>19</th>\n",
       "      <td>Paul</td>\n",
       "      <td>Keingati</td>\n",
       "      <td>17253</td>\n",
       "      <td>Harvad</td>\n",
       "      <td>Gmoto</td>\n",
       "      <td>No</td>\n",
       "      <td>12,256,342</td>\n",
       "      <td>Ford</td>\n",
       "    </tr>\n",
       "    <tr>\n",
       "      <th>20</th>\n",
       "      <td>Linet</td>\n",
       "      <td>Keingati</td>\n",
       "      <td>12598</td>\n",
       "      <td>Yale</td>\n",
       "      <td>Goldmann</td>\n",
       "      <td>Yes</td>\n",
       "      <td>15,264,895</td>\n",
       "      <td>Jaguar</td>\n",
       "    </tr>\n",
       "  </tbody>\n",
       "</table>\n",
       "</div>"
      ],
      "text/plain": [
       "   Fisrt Name Last Name     ID  School   employer Married  Sales(USD)  \\\n",
       "16     Daniel    Taylor  12594  Sydney       Foxx      No     969,544   \n",
       "17    Matthew   Carlson  12595  Oxford  Microosft      No     965,003   \n",
       "18    Anthony    Cabral  12596     LoB    Hundaai     Yes   5,984,621   \n",
       "19       Paul  Keingati  17253  Harvad      Gmoto      No  12,256,342   \n",
       "20     Linet   Keingati  12598    Yale   Goldmann     Yes  15,264,895   \n",
       "\n",
       "     Car Model  \n",
       "16     Ferrari  \n",
       "17  VolksWagen  \n",
       "18    Marcedes  \n",
       "19        Ford  \n",
       "20      Jaguar  "
      ]
     },
     "execution_count": 42,
     "metadata": {},
     "output_type": "execute_result"
    }
   ],
   "source": [
    "df.tail()"
   ]
  },
  {
   "cell_type": "code",
   "execution_count": 43,
   "metadata": {},
   "outputs": [
    {
     "data": {
      "text/html": [
       "<div>\n",
       "<style scoped>\n",
       "    .dataframe tbody tr th:only-of-type {\n",
       "        vertical-align: middle;\n",
       "    }\n",
       "\n",
       "    .dataframe tbody tr th {\n",
       "        vertical-align: top;\n",
       "    }\n",
       "\n",
       "    .dataframe thead th {\n",
       "        text-align: right;\n",
       "    }\n",
       "</style>\n",
       "<table border=\"1\" class=\"dataframe\">\n",
       "  <thead>\n",
       "    <tr style=\"text-align: right;\">\n",
       "      <th></th>\n",
       "      <th>Fisrt Name</th>\n",
       "      <th>Last Name</th>\n",
       "      <th>ID</th>\n",
       "      <th>School</th>\n",
       "      <th>employer</th>\n",
       "      <th>Married</th>\n",
       "      <th>Sales(USD)</th>\n",
       "      <th>Car Model</th>\n",
       "    </tr>\n",
       "  </thead>\n",
       "  <tbody>\n",
       "    <tr>\n",
       "      <th>0</th>\n",
       "      <td>John</td>\n",
       "      <td>Donald</td>\n",
       "      <td>12578</td>\n",
       "      <td>UofL</td>\n",
       "      <td>Humanaa</td>\n",
       "      <td>Yes</td>\n",
       "      <td>1,560,897</td>\n",
       "      <td>Bentley</td>\n",
       "    </tr>\n",
       "    <tr>\n",
       "      <th>1</th>\n",
       "      <td>Robert</td>\n",
       "      <td>Mark</td>\n",
       "      <td>12579</td>\n",
       "      <td>UCLA</td>\n",
       "      <td>Foxx</td>\n",
       "      <td>No</td>\n",
       "      <td>1,467,664</td>\n",
       "      <td>BMW</td>\n",
       "    </tr>\n",
       "  </tbody>\n",
       "</table>\n",
       "</div>"
      ],
      "text/plain": [
       "  Fisrt Name Last Name     ID School employer Married Sales(USD) Car Model\n",
       "0       John    Donald  12578   UofL  Humanaa     Yes  1,560,897   Bentley\n",
       "1     Robert      Mark  12579   UCLA     Foxx      No  1,467,664       BMW"
      ]
     },
     "execution_count": 43,
     "metadata": {},
     "output_type": "execute_result"
    }
   ],
   "source": [
    "df.head(2)"
   ]
  },
  {
   "cell_type": "code",
   "execution_count": 44,
   "metadata": {},
   "outputs": [
    {
     "data": {
      "text/plain": [
       "Index(['Fisrt Name', 'Last Name', 'ID', 'School', 'employer', 'Married',\n",
       "       'Sales(USD)', 'Car Model'],\n",
       "      dtype='object')"
      ]
     },
     "execution_count": 44,
     "metadata": {},
     "output_type": "execute_result"
    }
   ],
   "source": [
    "#seing column names\n",
    "df.columns"
   ]
  },
  {
   "cell_type": "code",
   "execution_count": 45,
   "metadata": {},
   "outputs": [
    {
     "data": {
      "text/plain": [
       "0        Bentley\n",
       "1            BMW\n",
       "2        Hyundai\n",
       "3           Jeep\n",
       "4        Ferrari\n",
       "5     VolksWagen\n",
       "6       Marcedes\n",
       "7           Ford\n",
       "8         Jaguar\n",
       "9         Morgan\n",
       "10       Peugeot\n",
       "11       Porsche\n",
       "12         Tesla\n",
       "13        Toyota\n",
       "14       Bentley\n",
       "15          Jeep\n",
       "16       Ferrari\n",
       "17    VolksWagen\n",
       "18      Marcedes\n",
       "19          Ford\n",
       "20        Jaguar\n",
       "Name: Car Model, dtype: object"
      ]
     },
     "execution_count": 45,
     "metadata": {},
     "output_type": "execute_result"
    }
   ],
   "source": [
    "#selecting a single column\n",
    "df[\"Car Model\"]"
   ]
  },
  {
   "cell_type": "code",
   "execution_count": 46,
   "metadata": {},
   "outputs": [
    {
     "data": {
      "text/html": [
       "<div>\n",
       "<style scoped>\n",
       "    .dataframe tbody tr th:only-of-type {\n",
       "        vertical-align: middle;\n",
       "    }\n",
       "\n",
       "    .dataframe tbody tr th {\n",
       "        vertical-align: top;\n",
       "    }\n",
       "\n",
       "    .dataframe thead th {\n",
       "        text-align: right;\n",
       "    }\n",
       "</style>\n",
       "<table border=\"1\" class=\"dataframe\">\n",
       "  <thead>\n",
       "    <tr style=\"text-align: right;\">\n",
       "      <th></th>\n",
       "      <th>Car Model</th>\n",
       "      <th>Married</th>\n",
       "    </tr>\n",
       "  </thead>\n",
       "  <tbody>\n",
       "    <tr>\n",
       "      <th>0</th>\n",
       "      <td>Bentley</td>\n",
       "      <td>Yes</td>\n",
       "    </tr>\n",
       "    <tr>\n",
       "      <th>1</th>\n",
       "      <td>BMW</td>\n",
       "      <td>No</td>\n",
       "    </tr>\n",
       "    <tr>\n",
       "      <th>2</th>\n",
       "      <td>Hyundai</td>\n",
       "      <td>No</td>\n",
       "    </tr>\n",
       "    <tr>\n",
       "      <th>3</th>\n",
       "      <td>Jeep</td>\n",
       "      <td>Yes</td>\n",
       "    </tr>\n",
       "    <tr>\n",
       "      <th>4</th>\n",
       "      <td>Ferrari</td>\n",
       "      <td>Yes</td>\n",
       "    </tr>\n",
       "    <tr>\n",
       "      <th>5</th>\n",
       "      <td>VolksWagen</td>\n",
       "      <td>Yes</td>\n",
       "    </tr>\n",
       "    <tr>\n",
       "      <th>6</th>\n",
       "      <td>Marcedes</td>\n",
       "      <td>No</td>\n",
       "    </tr>\n",
       "    <tr>\n",
       "      <th>7</th>\n",
       "      <td>Ford</td>\n",
       "      <td>No</td>\n",
       "    </tr>\n",
       "    <tr>\n",
       "      <th>8</th>\n",
       "      <td>Jaguar</td>\n",
       "      <td>Yes</td>\n",
       "    </tr>\n",
       "    <tr>\n",
       "      <th>9</th>\n",
       "      <td>Morgan</td>\n",
       "      <td>Yes</td>\n",
       "    </tr>\n",
       "    <tr>\n",
       "      <th>10</th>\n",
       "      <td>Peugeot</td>\n",
       "      <td>No</td>\n",
       "    </tr>\n",
       "    <tr>\n",
       "      <th>11</th>\n",
       "      <td>Porsche</td>\n",
       "      <td>No</td>\n",
       "    </tr>\n",
       "    <tr>\n",
       "      <th>12</th>\n",
       "      <td>Tesla</td>\n",
       "      <td>Yes</td>\n",
       "    </tr>\n",
       "    <tr>\n",
       "      <th>13</th>\n",
       "      <td>Toyota</td>\n",
       "      <td>No</td>\n",
       "    </tr>\n",
       "    <tr>\n",
       "      <th>14</th>\n",
       "      <td>Bentley</td>\n",
       "      <td>Yes</td>\n",
       "    </tr>\n",
       "    <tr>\n",
       "      <th>15</th>\n",
       "      <td>Jeep</td>\n",
       "      <td>Yes</td>\n",
       "    </tr>\n",
       "    <tr>\n",
       "      <th>16</th>\n",
       "      <td>Ferrari</td>\n",
       "      <td>No</td>\n",
       "    </tr>\n",
       "    <tr>\n",
       "      <th>17</th>\n",
       "      <td>VolksWagen</td>\n",
       "      <td>No</td>\n",
       "    </tr>\n",
       "    <tr>\n",
       "      <th>18</th>\n",
       "      <td>Marcedes</td>\n",
       "      <td>Yes</td>\n",
       "    </tr>\n",
       "    <tr>\n",
       "      <th>19</th>\n",
       "      <td>Ford</td>\n",
       "      <td>No</td>\n",
       "    </tr>\n",
       "    <tr>\n",
       "      <th>20</th>\n",
       "      <td>Jaguar</td>\n",
       "      <td>Yes</td>\n",
       "    </tr>\n",
       "  </tbody>\n",
       "</table>\n",
       "</div>"
      ],
      "text/plain": [
       "     Car Model Married\n",
       "0      Bentley     Yes\n",
       "1          BMW      No\n",
       "2      Hyundai      No\n",
       "3         Jeep     Yes\n",
       "4      Ferrari     Yes\n",
       "5   VolksWagen     Yes\n",
       "6     Marcedes      No\n",
       "7         Ford      No\n",
       "8       Jaguar     Yes\n",
       "9       Morgan     Yes\n",
       "10     Peugeot      No\n",
       "11     Porsche      No\n",
       "12       Tesla     Yes\n",
       "13      Toyota      No\n",
       "14     Bentley     Yes\n",
       "15        Jeep     Yes\n",
       "16     Ferrari      No\n",
       "17  VolksWagen      No\n",
       "18    Marcedes     Yes\n",
       "19        Ford      No\n",
       "20      Jaguar     Yes"
      ]
     },
     "execution_count": 46,
     "metadata": {},
     "output_type": "execute_result"
    }
   ],
   "source": [
    "#selecting multiple columns\n",
    "df[[\"Car Model\",\"Married\"]]"
   ]
  },
  {
   "cell_type": "code",
   "execution_count": 47,
   "metadata": {},
   "outputs": [
    {
     "data": {
      "text/html": [
       "<div>\n",
       "<style scoped>\n",
       "    .dataframe tbody tr th:only-of-type {\n",
       "        vertical-align: middle;\n",
       "    }\n",
       "\n",
       "    .dataframe tbody tr th {\n",
       "        vertical-align: top;\n",
       "    }\n",
       "\n",
       "    .dataframe thead th {\n",
       "        text-align: right;\n",
       "    }\n",
       "</style>\n",
       "<table border=\"1\" class=\"dataframe\">\n",
       "  <thead>\n",
       "    <tr style=\"text-align: right;\">\n",
       "      <th></th>\n",
       "      <th>Fisrt Name</th>\n",
       "      <th>Last Name</th>\n",
       "      <th>ID</th>\n",
       "      <th>School</th>\n",
       "      <th>employer</th>\n",
       "      <th>Married</th>\n",
       "      <th>Sales(USD)</th>\n",
       "      <th>Car Model</th>\n",
       "    </tr>\n",
       "  </thead>\n",
       "  <tbody>\n",
       "    <tr>\n",
       "      <th>0</th>\n",
       "      <td>John</td>\n",
       "      <td>Donald</td>\n",
       "      <td>12578</td>\n",
       "      <td>UofL</td>\n",
       "      <td>Humanaa</td>\n",
       "      <td>Yes</td>\n",
       "      <td>1,560,897</td>\n",
       "      <td>Bentley</td>\n",
       "    </tr>\n",
       "    <tr>\n",
       "      <th>1</th>\n",
       "      <td>Robert</td>\n",
       "      <td>Mark</td>\n",
       "      <td>12579</td>\n",
       "      <td>UCLA</td>\n",
       "      <td>Foxx</td>\n",
       "      <td>No</td>\n",
       "      <td>1,467,664</td>\n",
       "      <td>BMW</td>\n",
       "    </tr>\n",
       "    <tr>\n",
       "      <th>2</th>\n",
       "      <td>Michael</td>\n",
       "      <td>Jessica</td>\n",
       "      <td>12580</td>\n",
       "      <td>Bentley</td>\n",
       "      <td>Microosft</td>\n",
       "      <td>No</td>\n",
       "      <td>1,448,309</td>\n",
       "      <td>Hyundai</td>\n",
       "    </tr>\n",
       "    <tr>\n",
       "      <th>3</th>\n",
       "      <td>William</td>\n",
       "      <td>Sarah</td>\n",
       "      <td>12581</td>\n",
       "      <td>ASU</td>\n",
       "      <td>Hundaai</td>\n",
       "      <td>Yes</td>\n",
       "      <td>1,428,981</td>\n",
       "      <td>Jeep</td>\n",
       "    </tr>\n",
       "    <tr>\n",
       "      <th>4</th>\n",
       "      <td>David</td>\n",
       "      <td>Karen</td>\n",
       "      <td>13561</td>\n",
       "      <td>GWU</td>\n",
       "      <td>MRM</td>\n",
       "      <td>Yes</td>\n",
       "      <td>1,402,428</td>\n",
       "      <td>Ferrari</td>\n",
       "    </tr>\n",
       "  </tbody>\n",
       "</table>\n",
       "</div>"
      ],
      "text/plain": [
       "  Fisrt Name Last Name     ID   School   employer Married Sales(USD) Car Model\n",
       "0       John    Donald  12578     UofL    Humanaa     Yes  1,560,897   Bentley\n",
       "1     Robert      Mark  12579     UCLA       Foxx      No  1,467,664       BMW\n",
       "2    Michael   Jessica  12580  Bentley  Microosft      No  1,448,309   Hyundai\n",
       "3    William     Sarah  12581      ASU    Hundaai     Yes  1,428,981      Jeep\n",
       "4      David     Karen  13561      GWU        MRM     Yes  1,402,428   Ferrari"
      ]
     },
     "execution_count": 47,
     "metadata": {},
     "output_type": "execute_result"
    }
   ],
   "source": [
    "#slecting rows by their position\n",
    "df.iloc[:5]"
   ]
  },
  {
   "cell_type": "code",
   "execution_count": 48,
   "metadata": {},
   "outputs": [
    {
     "data": {
      "text/html": [
       "<div>\n",
       "<style scoped>\n",
       "    .dataframe tbody tr th:only-of-type {\n",
       "        vertical-align: middle;\n",
       "    }\n",
       "\n",
       "    .dataframe tbody tr th {\n",
       "        vertical-align: top;\n",
       "    }\n",
       "\n",
       "    .dataframe thead th {\n",
       "        text-align: right;\n",
       "    }\n",
       "</style>\n",
       "<table border=\"1\" class=\"dataframe\">\n",
       "  <thead>\n",
       "    <tr style=\"text-align: right;\">\n",
       "      <th></th>\n",
       "      <th>Fisrt Name</th>\n",
       "      <th>Last Name</th>\n",
       "      <th>ID</th>\n",
       "    </tr>\n",
       "  </thead>\n",
       "  <tbody>\n",
       "    <tr>\n",
       "      <th>0</th>\n",
       "      <td>John</td>\n",
       "      <td>Donald</td>\n",
       "      <td>12578</td>\n",
       "    </tr>\n",
       "    <tr>\n",
       "      <th>1</th>\n",
       "      <td>Robert</td>\n",
       "      <td>Mark</td>\n",
       "      <td>12579</td>\n",
       "    </tr>\n",
       "    <tr>\n",
       "      <th>2</th>\n",
       "      <td>Michael</td>\n",
       "      <td>Jessica</td>\n",
       "      <td>12580</td>\n",
       "    </tr>\n",
       "    <tr>\n",
       "      <th>3</th>\n",
       "      <td>William</td>\n",
       "      <td>Sarah</td>\n",
       "      <td>12581</td>\n",
       "    </tr>\n",
       "    <tr>\n",
       "      <th>4</th>\n",
       "      <td>David</td>\n",
       "      <td>Karen</td>\n",
       "      <td>13561</td>\n",
       "    </tr>\n",
       "    <tr>\n",
       "      <th>5</th>\n",
       "      <td>Richard</td>\n",
       "      <td>Nancy</td>\n",
       "      <td>12583</td>\n",
       "    </tr>\n",
       "    <tr>\n",
       "      <th>6</th>\n",
       "      <td>Patricia</td>\n",
       "      <td>Lisa</td>\n",
       "      <td>12584</td>\n",
       "    </tr>\n",
       "    <tr>\n",
       "      <th>7</th>\n",
       "      <td>Jennifer</td>\n",
       "      <td>Margaret</td>\n",
       "      <td>12585</td>\n",
       "    </tr>\n",
       "    <tr>\n",
       "      <th>8</th>\n",
       "      <td>Linda</td>\n",
       "      <td>Betty</td>\n",
       "      <td>12586</td>\n",
       "    </tr>\n",
       "    <tr>\n",
       "      <th>9</th>\n",
       "      <td>Elizabeth</td>\n",
       "      <td>Sandra</td>\n",
       "      <td>14253</td>\n",
       "    </tr>\n",
       "    <tr>\n",
       "      <th>10</th>\n",
       "      <td>Barbara</td>\n",
       "      <td>Wood</td>\n",
       "      <td>12588</td>\n",
       "    </tr>\n",
       "    <tr>\n",
       "      <th>11</th>\n",
       "      <td>Susan</td>\n",
       "      <td>Lewis</td>\n",
       "      <td>12589</td>\n",
       "    </tr>\n",
       "    <tr>\n",
       "      <th>12</th>\n",
       "      <td>Joseph</td>\n",
       "      <td>Roberts</td>\n",
       "      <td>12590</td>\n",
       "    </tr>\n",
       "    <tr>\n",
       "      <th>13</th>\n",
       "      <td>Thomas</td>\n",
       "      <td>Reinhadt</td>\n",
       "      <td>12591</td>\n",
       "    </tr>\n",
       "    <tr>\n",
       "      <th>14</th>\n",
       "      <td>Charles</td>\n",
       "      <td>Keingati</td>\n",
       "      <td>12592</td>\n",
       "    </tr>\n",
       "    <tr>\n",
       "      <th>15</th>\n",
       "      <td>Christopher</td>\n",
       "      <td>Davies</td>\n",
       "      <td>12593</td>\n",
       "    </tr>\n",
       "    <tr>\n",
       "      <th>16</th>\n",
       "      <td>Daniel</td>\n",
       "      <td>Taylor</td>\n",
       "      <td>12594</td>\n",
       "    </tr>\n",
       "    <tr>\n",
       "      <th>17</th>\n",
       "      <td>Matthew</td>\n",
       "      <td>Carlson</td>\n",
       "      <td>12595</td>\n",
       "    </tr>\n",
       "    <tr>\n",
       "      <th>18</th>\n",
       "      <td>Anthony</td>\n",
       "      <td>Cabral</td>\n",
       "      <td>12596</td>\n",
       "    </tr>\n",
       "    <tr>\n",
       "      <th>19</th>\n",
       "      <td>Paul</td>\n",
       "      <td>Keingati</td>\n",
       "      <td>17253</td>\n",
       "    </tr>\n",
       "    <tr>\n",
       "      <th>20</th>\n",
       "      <td>Linet</td>\n",
       "      <td>Keingati</td>\n",
       "      <td>12598</td>\n",
       "    </tr>\n",
       "  </tbody>\n",
       "</table>\n",
       "</div>"
      ],
      "text/plain": [
       "     Fisrt Name Last Name     ID\n",
       "0          John    Donald  12578\n",
       "1        Robert      Mark  12579\n",
       "2       Michael   Jessica  12580\n",
       "3       William     Sarah  12581\n",
       "4         David     Karen  13561\n",
       "5       Richard     Nancy  12583\n",
       "6      Patricia      Lisa  12584\n",
       "7      Jennifer  Margaret  12585\n",
       "8         Linda     Betty  12586\n",
       "9     Elizabeth    Sandra  14253\n",
       "10      Barbara      Wood  12588\n",
       "11        Susan     Lewis  12589\n",
       "12       Joseph   Roberts  12590\n",
       "13       Thomas  Reinhadt  12591\n",
       "14      Charles  Keingati  12592\n",
       "15  Christopher    Davies  12593\n",
       "16       Daniel    Taylor  12594\n",
       "17      Matthew   Carlson  12595\n",
       "18      Anthony    Cabral  12596\n",
       "19         Paul  Keingati  17253\n",
       "20       Linet   Keingati  12598"
      ]
     },
     "execution_count": 48,
     "metadata": {},
     "output_type": "execute_result"
    }
   ],
   "source": [
    "#selecting columns using their position\n",
    "df.iloc[:,:3]"
   ]
  },
  {
   "cell_type": "code",
   "execution_count": 49,
   "metadata": {},
   "outputs": [
    {
     "data": {
      "text/html": [
       "<div>\n",
       "<style scoped>\n",
       "    .dataframe tbody tr th:only-of-type {\n",
       "        vertical-align: middle;\n",
       "    }\n",
       "\n",
       "    .dataframe tbody tr th {\n",
       "        vertical-align: top;\n",
       "    }\n",
       "\n",
       "    .dataframe thead th {\n",
       "        text-align: right;\n",
       "    }\n",
       "</style>\n",
       "<table border=\"1\" class=\"dataframe\">\n",
       "  <thead>\n",
       "    <tr style=\"text-align: right;\">\n",
       "      <th></th>\n",
       "      <th>Fisrt Name</th>\n",
       "      <th>Last Name</th>\n",
       "      <th>ID</th>\n",
       "      <th>School</th>\n",
       "      <th>employer</th>\n",
       "      <th>Married</th>\n",
       "      <th>Sales(USD)</th>\n",
       "      <th>Car Model</th>\n",
       "    </tr>\n",
       "  </thead>\n",
       "  <tbody>\n",
       "    <tr>\n",
       "      <th>0</th>\n",
       "      <td>John</td>\n",
       "      <td>Donald</td>\n",
       "      <td>12578</td>\n",
       "      <td>UofL</td>\n",
       "      <td>Humanaa</td>\n",
       "      <td>Yes</td>\n",
       "      <td>1,560,897</td>\n",
       "      <td>Bentley</td>\n",
       "    </tr>\n",
       "    <tr>\n",
       "      <th>14</th>\n",
       "      <td>Charles</td>\n",
       "      <td>Keingati</td>\n",
       "      <td>12592</td>\n",
       "      <td>Clark</td>\n",
       "      <td>UofL</td>\n",
       "      <td>Yes</td>\n",
       "      <td>6,582,310</td>\n",
       "      <td>Bentley</td>\n",
       "    </tr>\n",
       "  </tbody>\n",
       "</table>\n",
       "</div>"
      ],
      "text/plain": [
       "   Fisrt Name Last Name     ID School employer Married Sales(USD) Car Model\n",
       "0        John    Donald  12578   UofL  Humanaa     Yes  1,560,897   Bentley\n",
       "14    Charles  Keingati  12592  Clark     UofL     Yes  6,582,310   Bentley"
      ]
     },
     "execution_count": 49,
     "metadata": {},
     "output_type": "execute_result"
    }
   ],
   "source": [
    "#Selecting Rows that have car type as Bentley\n",
    "df[df[\"Car Model\"]==\"Bentley\"]"
   ]
  },
  {
   "cell_type": "code",
   "execution_count": 50,
   "metadata": {},
   "outputs": [
    {
     "data": {
      "text/plain": [
       "271649"
      ]
     },
     "execution_count": 50,
     "metadata": {},
     "output_type": "execute_result"
    }
   ],
   "source": [
    "#sum of all IDs\n",
    "df[\"ID\"].sum()"
   ]
  },
  {
   "cell_type": "code",
   "execution_count": 51,
   "metadata": {},
   "outputs": [
    {
     "data": {
      "text/plain": [
       "12935.666666666666"
      ]
     },
     "execution_count": 51,
     "metadata": {},
     "output_type": "execute_result"
    }
   ],
   "source": [
    "#mean sales\n",
    "df[\"ID\"].mean()"
   ]
  },
  {
   "cell_type": "code",
   "execution_count": 52,
   "metadata": {},
   "outputs": [
    {
     "data": {
      "text/plain": [
       "0      12578\n",
       "1      25157\n",
       "2      37737\n",
       "3      50318\n",
       "4      63879\n",
       "5      76462\n",
       "6      89046\n",
       "7     101631\n",
       "8     114217\n",
       "9     128470\n",
       "10    141058\n",
       "11    153647\n",
       "12    166237\n",
       "13    178828\n",
       "14    191420\n",
       "15    204013\n",
       "16    216607\n",
       "17    229202\n",
       "18    241798\n",
       "19    259051\n",
       "20    271649\n",
       "Name: ID, dtype: int64"
      ]
     },
     "execution_count": 52,
     "metadata": {},
     "output_type": "execute_result"
    }
   ],
   "source": [
    "#cummulative ID\n",
    "df['ID'].cumsum()"
   ]
  },
  {
   "cell_type": "code",
   "execution_count": 53,
   "metadata": {},
   "outputs": [
    {
     "data": {
      "text/plain": [
       "count       21.000000\n",
       "mean     12935.666667\n",
       "std       1071.062946\n",
       "min      12578.000000\n",
       "25%      12584.000000\n",
       "50%      12590.000000\n",
       "75%      12595.000000\n",
       "max      17253.000000\n",
       "Name: ID, dtype: float64"
      ]
     },
     "execution_count": 53,
     "metadata": {},
     "output_type": "execute_result"
    }
   ],
   "source": [
    "#summary statistics on ID\n",
    "df['ID'].describe()"
   ]
  },
  {
   "cell_type": "code",
   "execution_count": 54,
   "metadata": {},
   "outputs": [
    {
     "data": {
      "text/plain": [
       "21"
      ]
     },
     "execution_count": 54,
     "metadata": {},
     "output_type": "execute_result"
    }
   ],
   "source": [
    "#count the number of non-NA values\n",
    "df['ID'].count()"
   ]
  },
  {
   "cell_type": "code",
   "execution_count": 55,
   "metadata": {},
   "outputs": [
    {
     "data": {
      "text/plain": [
       "'1,045,519'"
      ]
     },
     "execution_count": 55,
     "metadata": {},
     "output_type": "execute_result"
    }
   ],
   "source": [
    "#minimum value of sale\n",
    "df['Sales(USD)'].min()"
   ]
  },
  {
   "cell_type": "code",
   "execution_count": 56,
   "metadata": {},
   "outputs": [
    {
     "data": {
      "text/plain": [
       "12590.0"
      ]
     },
     "execution_count": 56,
     "metadata": {},
     "output_type": "execute_result"
    }
   ],
   "source": [
    "#median value of sale\n",
    "df['ID'].median()"
   ]
  },
  {
   "cell_type": "code",
   "execution_count": 57,
   "metadata": {},
   "outputs": [
    {
     "data": {
      "text/plain": [
       "1147175.8333333333"
      ]
     },
     "execution_count": 57,
     "metadata": {},
     "output_type": "execute_result"
    }
   ],
   "source": [
    "#sample variance of ID\n",
    "df['ID'].var()"
   ]
  },
  {
   "cell_type": "code",
   "execution_count": 58,
   "metadata": {},
   "outputs": [
    {
     "data": {
      "text/plain": [
       "1071.062945551443"
      ]
     },
     "execution_count": 58,
     "metadata": {},
     "output_type": "execute_result"
    }
   ],
   "source": [
    "#sample std deviation of ID\n",
    "df['ID'].std()"
   ]
  },
  {
   "cell_type": "code",
   "execution_count": 59,
   "metadata": {},
   "outputs": [
    {
     "data": {
      "text/plain": [
       "3.6991409828227155"
      ]
     },
     "execution_count": 59,
     "metadata": {},
     "output_type": "execute_result"
    }
   ],
   "source": [
    "#skewness of ID values\n",
    "df['ID'].skew()"
   ]
  },
  {
   "cell_type": "code",
   "execution_count": 60,
   "metadata": {},
   "outputs": [
    {
     "data": {
      "text/plain": [
       "14.498693387562138"
      ]
     },
     "execution_count": 60,
     "metadata": {},
     "output_type": "execute_result"
    }
   ],
   "source": [
    "#kurtosis of ID values\n",
    "df['ID'].kurt()"
   ]
  },
  {
   "cell_type": "code",
   "execution_count": 61,
   "metadata": {},
   "outputs": [
    {
     "data": {
      "text/html": [
       "<div>\n",
       "<style scoped>\n",
       "    .dataframe tbody tr th:only-of-type {\n",
       "        vertical-align: middle;\n",
       "    }\n",
       "\n",
       "    .dataframe tbody tr th {\n",
       "        vertical-align: top;\n",
       "    }\n",
       "\n",
       "    .dataframe thead th {\n",
       "        text-align: right;\n",
       "    }\n",
       "</style>\n",
       "<table border=\"1\" class=\"dataframe\">\n",
       "  <thead>\n",
       "    <tr style=\"text-align: right;\">\n",
       "      <th></th>\n",
       "      <th>ID</th>\n",
       "    </tr>\n",
       "  </thead>\n",
       "  <tbody>\n",
       "    <tr>\n",
       "      <th>ID</th>\n",
       "      <td>1.0</td>\n",
       "    </tr>\n",
       "  </tbody>\n",
       "</table>\n",
       "</div>"
      ],
      "text/plain": [
       "     ID\n",
       "ID  1.0"
      ]
     },
     "execution_count": 61,
     "metadata": {},
     "output_type": "execute_result"
    }
   ],
   "source": [
    "#correlation matrix of ID values\n",
    "df.corr()"
   ]
  },
  {
   "cell_type": "code",
   "execution_count": 62,
   "metadata": {},
   "outputs": [
    {
     "data": {
      "text/html": [
       "<div>\n",
       "<style scoped>\n",
       "    .dataframe tbody tr th:only-of-type {\n",
       "        vertical-align: middle;\n",
       "    }\n",
       "\n",
       "    .dataframe tbody tr th {\n",
       "        vertical-align: top;\n",
       "    }\n",
       "\n",
       "    .dataframe thead th {\n",
       "        text-align: right;\n",
       "    }\n",
       "</style>\n",
       "<table border=\"1\" class=\"dataframe\">\n",
       "  <thead>\n",
       "    <tr style=\"text-align: right;\">\n",
       "      <th></th>\n",
       "      <th>ID</th>\n",
       "    </tr>\n",
       "  </thead>\n",
       "  <tbody>\n",
       "    <tr>\n",
       "      <th>ID</th>\n",
       "      <td>1.147176e+06</td>\n",
       "    </tr>\n",
       "  </tbody>\n",
       "</table>\n",
       "</div>"
      ],
      "text/plain": [
       "              ID\n",
       "ID  1.147176e+06"
      ]
     },
     "execution_count": 62,
     "metadata": {},
     "output_type": "execute_result"
    }
   ],
   "source": [
    "#covariance matrix of ID values\n",
    "df.cov()"
   ]
  },
  {
   "cell_type": "code",
   "execution_count": 63,
   "metadata": {},
   "outputs": [
    {
     "data": {
      "text/plain": [
       "<matplotlib.axes._subplots.AxesSubplot at 0x18631d99908>"
      ]
     },
     "execution_count": 63,
     "metadata": {},
     "output_type": "execute_result"
    },
    {
     "data": {
      "image/png": "[encoded data removed]",
      "text/plain": [
       "<Figure size 432x288 with 1 Axes>"
      ]
     },
     "metadata": {
      "needs_background": "light"
     },
     "output_type": "display_data"
    }
   ],
   "source": [
    "df.boxplot(column=\"ID\",by=\"Married\")"
   ]
  },
  {
   "cell_type": "code",
   "execution_count": 66,
   "metadata": {},
   "outputs": [
    {
     "data": {
      "text/plain": [
       "array([<matplotlib.axes._subplots.AxesSubplot object at 0x00000186321E11C8>,\n",
       "       <matplotlib.axes._subplots.AxesSubplot object at 0x00000186331C5948>],\n",
       "      dtype=object)"
      ]
     },
     "execution_count": 66,
     "metadata": {},
     "output_type": "execute_result"
    },
    {
     "data": {
      "image/png": "[encoded data removed]",
      "text/plain": [
       "<Figure size 432x288 with 2 Axes>"
      ]
     },
     "metadata": {
      "needs_background": "light"
     },
     "output_type": "display_data"
    }
   ],
   "source": [
    "df.hist(column=\"ID\",by=\"Married\")"
   ]
  },
  {
   "cell_type": "code",
   "execution_count": null,
   "metadata": {},
   "outputs": [],
   "source": []
  }
 ],
 "metadata": {
  "kernelspec": {
   "display_name": "Python 3",
   "language": "python",
   "name": "python3"
  },
  "language_info": {
   "codemirror_mode": {
    "name": "ipython",
    "version": 3
   },
   "file_extension": ".py",
   "mimetype": "text/x-python",
   "name": "python",
   "nbconvert_exporter": "python",
   "pygments_lexer": "ipython3",
   "version": "3.7.6"
  }
 },
 "nbformat": 4,
 "nbformat_minor": 4
}
